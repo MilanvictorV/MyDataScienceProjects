{
 "cells": [
  {
   "cell_type": "markdown",
   "id": "d5d46066",
   "metadata": {},
   "source": [
    "# It's a key value pairs and keys must be unique"
   ]
  },
  {
   "cell_type": "code",
   "execution_count": 10,
   "id": "05047fe0",
   "metadata": {},
   "outputs": [
    {
     "name": "stdout",
     "output_type": "stream",
     "text": [
      "Milan\n",
      "25\n",
      "DB\n"
     ]
    }
   ],
   "source": [
    "d1 = {'name':'Milan','age':'25','job':'DB'}\n",
    "print(d1['name'])\n",
    "print(d1['age'])\n",
    "print(d1['job'])"
   ]
  },
  {
   "cell_type": "code",
   "execution_count": 11,
   "id": "61293f69",
   "metadata": {},
   "outputs": [
    {
     "data": {
      "text/plain": [
       "{'name': 'Milan', 'age': '25', 'job': 'DB'}"
      ]
     },
     "execution_count": 11,
     "metadata": {},
     "output_type": "execute_result"
    }
   ],
   "source": [
    "d1"
   ]
  },
  {
   "cell_type": "code",
   "execution_count": 19,
   "id": "0bb6ce12",
   "metadata": {},
   "outputs": [
    {
     "name": "stdout",
     "output_type": "stream",
     "text": [
      "Milan\n",
      "Not Found da mairu\n"
     ]
    }
   ],
   "source": [
    "#  To access a key which is not present use get method to aviod error\n",
    "print(d1.get('name'))\n",
    "print(d1.get('address','Not Found da mairu')) # second is passsing as default value for not present keys"
   ]
  },
  {
   "cell_type": "code",
   "execution_count": 25,
   "id": "32e6821e",
   "metadata": {},
   "outputs": [],
   "source": [
    "d1['love'] = 'Lins' # if this key already present it will update the value if not present it willadd this as new entry\n",
    "d1['age'] = 30"
   ]
  },
  {
   "cell_type": "code",
   "execution_count": 26,
   "id": "8cee01af",
   "metadata": {},
   "outputs": [
    {
     "name": "stdout",
     "output_type": "stream",
     "text": [
      "Milan\n",
      "30\n",
      "DB\n",
      "Lins\n"
     ]
    }
   ],
   "source": [
    "print(d1['name'])\n",
    "print(d1['age'])\n",
    "print(d1['job'])\n",
    "print(d1['love'])"
   ]
  },
  {
   "cell_type": "code",
   "execution_count": 27,
   "id": "e106c794",
   "metadata": {},
   "outputs": [],
   "source": [
    "# to update so many values we can use update method\n",
    "# update method will take an dictionary as argument\n",
    "d1.update({'age' : 25, 'job' : 'VettiPunda'})"
   ]
  },
  {
   "cell_type": "code",
   "execution_count": 28,
   "id": "08c9d93b",
   "metadata": {},
   "outputs": [
    {
     "name": "stdout",
     "output_type": "stream",
     "text": [
      "Milan\n",
      "25\n",
      "VettiPunda\n",
      "Lins\n"
     ]
    }
   ],
   "source": [
    "print(d1['name'])\n",
    "print(d1['age'])\n",
    "print(d1['job'])\n",
    "print(d1['love'])"
   ]
  },
  {
   "cell_type": "code",
   "execution_count": 7,
   "id": "fe6f5549",
   "metadata": {},
   "outputs": [],
   "source": [
    "d2 = {'name':'Milan','age':25,'study':['SSLC','HSC','Engineering']}"
   ]
  },
  {
   "cell_type": "code",
   "execution_count": 13,
   "id": "e20c5536",
   "metadata": {},
   "outputs": [
    {
     "data": {
      "text/html": [
       "<div>\n",
       "<style scoped>\n",
       "    .dataframe tbody tr th:only-of-type {\n",
       "        vertical-align: middle;\n",
       "    }\n",
       "\n",
       "    .dataframe tbody tr th {\n",
       "        vertical-align: top;\n",
       "    }\n",
       "\n",
       "    .dataframe thead th {\n",
       "        text-align: right;\n",
       "    }\n",
       "</style>\n",
       "<table border=\"1\" class=\"dataframe\">\n",
       "  <thead>\n",
       "    <tr style=\"text-align: right;\">\n",
       "      <th></th>\n",
       "      <th>name</th>\n",
       "      <th>age</th>\n",
       "      <th>study</th>\n",
       "    </tr>\n",
       "  </thead>\n",
       "  <tbody>\n",
       "    <tr>\n",
       "      <th>0</th>\n",
       "      <td>False</td>\n",
       "      <td>False</td>\n",
       "      <td>False</td>\n",
       "    </tr>\n",
       "    <tr>\n",
       "      <th>1</th>\n",
       "      <td>False</td>\n",
       "      <td>False</td>\n",
       "      <td>False</td>\n",
       "    </tr>\n",
       "    <tr>\n",
       "      <th>2</th>\n",
       "      <td>False</td>\n",
       "      <td>False</td>\n",
       "      <td>False</td>\n",
       "    </tr>\n",
       "  </tbody>\n",
       "</table>\n",
       "</div>"
      ],
      "text/plain": [
       "    name    age  study\n",
       "0  False  False  False\n",
       "1  False  False  False\n",
       "2  False  False  False"
      ]
     },
     "execution_count": 13,
     "metadata": {},
     "output_type": "execute_result"
    }
   ],
   "source": [
    "import pandas as pd\n",
    "df = pd.DataFrame(d2,columns = ['name','age','study'])\n",
    "df.isna()"
   ]
  },
  {
   "cell_type": "code",
   "execution_count": null,
   "id": "d2a809a1",
   "metadata": {},
   "outputs": [],
   "source": []
  },
  {
   "cell_type": "code",
   "execution_count": null,
   "id": "c6c87611",
   "metadata": {},
   "outputs": [],
   "source": []
  }
 ],
 "metadata": {
  "kernelspec": {
   "display_name": "Python 3 (ipykernel)",
   "language": "python",
   "name": "python3"
  },
  "language_info": {
   "codemirror_mode": {
    "name": "ipython",
    "version": 3
   },
   "file_extension": ".py",
   "mimetype": "text/x-python",
   "name": "python",
   "nbconvert_exporter": "python",
   "pygments_lexer": "ipython3",
   "version": "3.9.12"
  }
 },
 "nbformat": 4,
 "nbformat_minor": 5
}
