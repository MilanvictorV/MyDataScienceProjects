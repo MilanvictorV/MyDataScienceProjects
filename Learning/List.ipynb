{
 "cells": [
  {
   "cell_type": "markdown",
   "id": "467586e3",
   "metadata": {},
   "source": [
    "# LIST"
   ]
  },
  {
   "cell_type": "code",
   "execution_count": 2,
   "id": "fb18e435",
   "metadata": {},
   "outputs": [
    {
     "data": {
      "text/plain": [
       "['Milan', 'Linssie']"
      ]
     },
     "execution_count": 2,
     "metadata": {},
     "output_type": "execute_result"
    }
   ],
   "source": [
    "# Collection of elements\n",
    "list1 = ['Milan','Linssie']\n",
    "list1"
   ]
  },
  {
   "cell_type": "code",
   "execution_count": 3,
   "id": "c3364994",
   "metadata": {},
   "outputs": [
    {
     "data": {
      "text/plain": [
       "'Linssie'"
      ]
     },
     "execution_count": 3,
     "metadata": {},
     "output_type": "execute_result"
    }
   ],
   "source": [
    "list1[0]\n",
    "list1[1]"
   ]
  },
  {
   "cell_type": "code",
   "execution_count": 4,
   "id": "ca6a52b5",
   "metadata": {},
   "outputs": [
    {
     "data": {
      "text/plain": [
       "'Linssie'"
      ]
     },
     "execution_count": 4,
     "metadata": {},
     "output_type": "execute_result"
    }
   ],
   "source": [
    "# To get last item in list give -1 in the index\n",
    "list1[-1]"
   ]
  },
  {
   "cell_type": "code",
   "execution_count": 5,
   "id": "83838962",
   "metadata": {},
   "outputs": [],
   "source": [
    "list2 = ['Victor','Shruthi']"
   ]
  },
  {
   "cell_type": "code",
   "execution_count": 6,
   "id": "cac44528",
   "metadata": {},
   "outputs": [
    {
     "data": {
      "text/plain": [
       "'Shruthi'"
      ]
     },
     "execution_count": 6,
     "metadata": {},
     "output_type": "execute_result"
    }
   ],
   "source": [
    "list2[-1]"
   ]
  },
  {
   "cell_type": "code",
   "execution_count": 7,
   "id": "31f5cda3",
   "metadata": {},
   "outputs": [],
   "source": [
    "list3 = list1 + list2"
   ]
  },
  {
   "cell_type": "code",
   "execution_count": 8,
   "id": "a78b83b3",
   "metadata": {},
   "outputs": [
    {
     "data": {
      "text/plain": [
       "['Milan', 'Linssie', 'Victor', 'Shruthi']"
      ]
     },
     "execution_count": 8,
     "metadata": {},
     "output_type": "execute_result"
    }
   ],
   "source": [
    "list3"
   ]
  },
  {
   "cell_type": "code",
   "execution_count": 9,
   "id": "d90ee72b",
   "metadata": {},
   "outputs": [],
   "source": [
    "list3.append('Loves')"
   ]
  },
  {
   "cell_type": "code",
   "execution_count": 10,
   "id": "31d5b6de",
   "metadata": {},
   "outputs": [
    {
     "data": {
      "text/plain": [
       "['Milan', 'Linssie', 'Victor', 'Shruthi', 'Loves']"
      ]
     },
     "execution_count": 10,
     "metadata": {},
     "output_type": "execute_result"
    }
   ],
   "source": [
    "list3"
   ]
  },
  {
   "cell_type": "code",
   "execution_count": 11,
   "id": "7884c93d",
   "metadata": {},
   "outputs": [
    {
     "data": {
      "text/plain": [
       "1"
      ]
     },
     "execution_count": 11,
     "metadata": {},
     "output_type": "execute_result"
    }
   ],
   "source": [
    "list3.count('Linssie')"
   ]
  },
  {
   "cell_type": "code",
   "execution_count": 12,
   "id": "9ac5cf6f",
   "metadata": {},
   "outputs": [],
   "source": [
    "list3.reverse()"
   ]
  },
  {
   "cell_type": "code",
   "execution_count": 13,
   "id": "a674cb13",
   "metadata": {},
   "outputs": [
    {
     "data": {
      "text/plain": [
       "['Loves', 'Shruthi', 'Victor', 'Linssie', 'Milan']"
      ]
     },
     "execution_count": 13,
     "metadata": {},
     "output_type": "execute_result"
    }
   ],
   "source": [
    "list3"
   ]
  },
  {
   "cell_type": "code",
   "execution_count": 14,
   "id": "101e611b",
   "metadata": {},
   "outputs": [
    {
     "data": {
      "text/plain": [
       "['Milan', 'Linssie']"
      ]
     },
     "execution_count": 14,
     "metadata": {},
     "output_type": "execute_result"
    }
   ],
   "source": [
    "list1"
   ]
  },
  {
   "cell_type": "code",
   "execution_count": 25,
   "id": "0b962761",
   "metadata": {},
   "outputs": [],
   "source": [
    "# to append a value in a particular index we are using insert method\n",
    "list1.insert(1,'Loves') #index,value"
   ]
  },
  {
   "cell_type": "code",
   "execution_count": 26,
   "id": "0fd73612",
   "metadata": {},
   "outputs": [
    {
     "data": {
      "text/plain": [
       "['Milan', 'Loves', 'Loves', 'Linssie']"
      ]
     },
     "execution_count": 26,
     "metadata": {},
     "output_type": "execute_result"
    }
   ],
   "source": [
    "list1"
   ]
  },
  {
   "cell_type": "code",
   "execution_count": 27,
   "id": "63b144d3",
   "metadata": {},
   "outputs": [],
   "source": [
    "list1.remove('Loves') # not going to delete all the values in loves one time run panna one value dha delete aagum"
   ]
  },
  {
   "cell_type": "code",
   "execution_count": 28,
   "id": "9a840e09",
   "metadata": {},
   "outputs": [
    {
     "data": {
      "text/plain": [
       "['Milan', 'Loves', 'Linssie']"
      ]
     },
     "execution_count": 28,
     "metadata": {},
     "output_type": "execute_result"
    }
   ],
   "source": [
    "list1"
   ]
  },
  {
   "cell_type": "code",
   "execution_count": 41,
   "id": "35a70685",
   "metadata": {},
   "outputs": [],
   "source": [
    "l1 = ['M','I','L']\n",
    "l2 = ['A','N']\n",
    "#if we want to add the values to other list we can use + method\n",
    "#l1 + l2"
   ]
  },
  {
   "cell_type": "code",
   "execution_count": 36,
   "id": "3f4ffb82",
   "metadata": {},
   "outputs": [
    {
     "data": {
      "text/plain": [
       "['M', 'I', 'L', ['A', 'N']]"
      ]
     },
     "execution_count": 36,
     "metadata": {},
     "output_type": "execute_result"
    }
   ],
   "source": [
    "#or we can use the method called extend, if we use append it will insert as list to add the values we need to use extend\n",
    "l1.append(l2)\n",
    "l1"
   ]
  },
  {
   "cell_type": "code",
   "execution_count": 42,
   "id": "fe8783c4",
   "metadata": {},
   "outputs": [
    {
     "data": {
      "text/plain": [
       "['M', 'I', 'L', 'A', 'N']"
      ]
     },
     "execution_count": 42,
     "metadata": {},
     "output_type": "execute_result"
    }
   ],
   "source": [
    "# to insert the values use extend\n",
    "l1\n",
    "l1.extend(l2)"
   ]
  },
  {
   "cell_type": "code",
   "execution_count": 43,
   "id": "ebd30282",
   "metadata": {},
   "outputs": [
    {
     "data": {
      "text/plain": [
       "['M', 'I', 'L', 'A', 'N']"
      ]
     },
     "execution_count": 43,
     "metadata": {},
     "output_type": "execute_result"
    }
   ],
   "source": [
    "l1"
   ]
  },
  {
   "cell_type": "code",
   "execution_count": 45,
   "id": "a4549888",
   "metadata": {},
   "outputs": [
    {
     "data": {
      "text/plain": [
       "['M', 'I', 'L', 'A', 'N']"
      ]
     },
     "execution_count": 45,
     "metadata": {},
     "output_type": "execute_result"
    }
   ],
   "source": [
    "l1 + l2\n",
    "l1"
   ]
  },
  {
   "cell_type": "code",
   "execution_count": 46,
   "id": "66b99c52",
   "metadata": {},
   "outputs": [
    {
     "data": {
      "text/plain": [
       "'N'"
      ]
     },
     "execution_count": 46,
     "metadata": {},
     "output_type": "execute_result"
    }
   ],
   "source": [
    "#pop method use the last element of  our list\n",
    "popp = l1.pop()\n",
    "popp"
   ]
  },
  {
   "cell_type": "code",
   "execution_count": 47,
   "id": "c1a58785",
   "metadata": {},
   "outputs": [
    {
     "data": {
      "text/plain": [
       "['M', 'I', 'L', 'A']"
      ]
     },
     "execution_count": 47,
     "metadata": {},
     "output_type": "execute_result"
    }
   ],
   "source": [
    "l1"
   ]
  },
  {
   "cell_type": "code",
   "execution_count": 60,
   "id": "68161283",
   "metadata": {},
   "outputs": [
    {
     "data": {
      "text/plain": [
       "['A', 'L', 'I', 'M']"
      ]
     },
     "execution_count": 60,
     "metadata": {},
     "output_type": "execute_result"
    }
   ],
   "source": [
    "# to reverse  it\n",
    "l1.reverse()\n",
    "l1"
   ]
  },
  {
   "cell_type": "code",
   "execution_count": 62,
   "id": "b5cda69b",
   "metadata": {},
   "outputs": [
    {
     "data": {
      "text/plain": [
       "['A', 'I', 'L', 'M']"
      ]
     },
     "execution_count": 62,
     "metadata": {},
     "output_type": "execute_result"
    }
   ],
   "source": [
    "# Sorting\n",
    "l1.sort()\n",
    "l1"
   ]
  },
  {
   "cell_type": "code",
   "execution_count": 64,
   "id": "f9d3f452",
   "metadata": {},
   "outputs": [
    {
     "data": {
      "text/plain": [
       "['M', 'L', 'I', 'A']"
      ]
     },
     "execution_count": 64,
     "metadata": {},
     "output_type": "execute_result"
    }
   ],
   "source": [
    "# to sort descending order\n",
    "l1.sort(reverse = True)\n",
    "l1"
   ]
  },
  {
   "cell_type": "code",
   "execution_count": 68,
   "id": "db806867",
   "metadata": {},
   "outputs": [
    {
     "name": "stdout",
     "output_type": "stream",
     "text": [
      "['A', 'I', 'L', 'M']\n"
     ]
    },
    {
     "data": {
      "text/plain": [
       "['M', 'L', 'I', 'A']"
      ]
     },
     "execution_count": 68,
     "metadata": {},
     "output_type": "execute_result"
    }
   ],
   "source": [
    "# if we don't want to change the order of elements in our list and need sorted version instead of sort method \n",
    "#we are going to use sorted function\n",
    "sorted_list = sorted(l1)\n",
    "print(sorted_list)\n",
    "l1"
   ]
  },
  {
   "cell_type": "code",
   "execution_count": 72,
   "id": "62504242",
   "metadata": {},
   "outputs": [
    {
     "name": "stdout",
     "output_type": "stream",
     "text": [
      "A\n",
      "M\n"
     ]
    }
   ],
   "source": [
    "# we have min max and sum also\n",
    "print(min(l1))\n",
    "print(max(l1))\n",
    "#print(sum(l1)) we can't use this for string list but can use it for int list"
   ]
  },
  {
   "cell_type": "code",
   "execution_count": 78,
   "id": "edccfa49",
   "metadata": {},
   "outputs": [
    {
     "name": "stdout",
     "output_type": "stream",
     "text": [
      "191\n"
     ]
    }
   ],
   "source": [
    "num = [10,15,15,95,56]\n",
    "print(sum(num))"
   ]
  },
  {
   "cell_type": "code",
   "execution_count": 81,
   "id": "791c0a7c",
   "metadata": {},
   "outputs": [
    {
     "data": {
      "text/plain": [
       "[10, 15, 15, 95, 56]"
      ]
     },
     "execution_count": 81,
     "metadata": {},
     "output_type": "execute_result"
    }
   ],
   "source": [
    "# clear methos will remove all elements\n",
    "num"
   ]
  },
  {
   "cell_type": "code",
   "execution_count": 84,
   "id": "7587d747",
   "metadata": {},
   "outputs": [
    {
     "data": {
      "text/plain": [
       "1"
      ]
     },
     "execution_count": 84,
     "metadata": {},
     "output_type": "execute_result"
    }
   ],
   "source": [
    "# To Find the index of list\n",
    "num.index(15)"
   ]
  },
  {
   "cell_type": "code",
   "execution_count": 85,
   "id": "bbac82b5",
   "metadata": {},
   "outputs": [
    {
     "name": "stdout",
     "output_type": "stream",
     "text": [
      "False\n"
     ]
    }
   ],
   "source": [
    "# To check if an element is present in the list  or not\n",
    "print(4568  in num)"
   ]
  },
  {
   "cell_type": "code",
   "execution_count": 88,
   "id": "39989078",
   "metadata": {},
   "outputs": [
    {
     "name": "stdout",
     "output_type": "stream",
     "text": [
      "Poda Loosu Punda\n"
     ]
    }
   ],
   "source": [
    "if 4578 not in num:\n",
    "    print('Poda Loosu Punda')"
   ]
  },
  {
   "cell_type": "code",
   "execution_count": 90,
   "id": "bb3ad813",
   "metadata": {},
   "outputs": [
    {
     "name": "stdout",
     "output_type": "stream",
     "text": [
      "0 10\n",
      "1 15\n",
      "2 15\n",
      "3 95\n",
      "4 56\n"
     ]
    }
   ],
   "source": [
    "# we have function called enumerate and it will return the index and values\n",
    "for ind, i in enumerate(num):\n",
    "    print(ind,i)"
   ]
  },
  {
   "cell_type": "code",
   "execution_count": 94,
   "id": "9af0b2b9",
   "metadata": {},
   "outputs": [
    {
     "name": "stdout",
     "output_type": "stream",
     "text": [
      "12 10\n",
      "13 15\n",
      "14 15\n",
      "15 95\n",
      "16 56\n"
     ]
    }
   ],
   "source": [
    "# if we need to specify starting value for our index we can use start\n",
    "for ind, i in enumerate(num, start = 12):\n",
    "    print(ind,i)"
   ]
  },
  {
   "cell_type": "code",
   "execution_count": 101,
   "id": "b27da3c9",
   "metadata": {},
   "outputs": [
    {
     "data": {
      "text/plain": [
       "'M-L-I-A'"
      ]
     },
     "execution_count": 101,
     "metadata": {},
     "output_type": "execute_result"
    }
   ],
   "source": [
    "# to change our list elements to an entire string we can use join function\n",
    "new_l1 = '-'.join(l1)\n",
    "new_l1"
   ]
  },
  {
   "cell_type": "code",
   "execution_count": 103,
   "id": "722007fd",
   "metadata": {},
   "outputs": [
    {
     "data": {
      "text/plain": [
       "['M', 'L', 'I', 'A']"
      ]
     },
     "execution_count": 103,
     "metadata": {},
     "output_type": "execute_result"
    }
   ],
   "source": [
    "# to change the this string to list we can use split function\n",
    "new_list = new_l1.split('-')\n",
    "new_list"
   ]
  }
 ],
 "metadata": {
  "kernelspec": {
   "display_name": "Python 3 (ipykernel)",
   "language": "python",
   "name": "python3"
  },
  "language_info": {
   "codemirror_mode": {
    "name": "ipython",
    "version": 3
   },
   "file_extension": ".py",
   "mimetype": "text/x-python",
   "name": "python",
   "nbconvert_exporter": "python",
   "pygments_lexer": "ipython3",
   "version": "3.9.12"
  }
 },
 "nbformat": 4,
 "nbformat_minor": 5
}
