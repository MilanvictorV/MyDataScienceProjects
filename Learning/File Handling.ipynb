{
 "cells": [
  {
   "cell_type": "markdown",
   "id": "3c6bd788",
   "metadata": {},
   "source": [
    "## File Handling\n",
    "    we are working with files which is in our system.\n",
    "    CRUD - Create, Read, Update, Delete we can do these operations by file handling\n",
    "    open(name,mode) is syntax for open a file\n",
    "    modes available are:\n",
    "        r - default value, opens a file for read\n",
    "        a - add the given line in the end\n",
    "        w - clear all the existing value and write it newly\n",
    "        x - creates the specified file, return error if the file name already existis\n",
    "      Note: all modes will create the file if it's not present\n",
    "    we can mention the types of file modes\n",
    "       t - default text\n",
    "       b - binary like images"
   ]
  },
  {
   "cell_type": "code",
   "execution_count": 4,
   "id": "f9974ba7",
   "metadata": {},
   "outputs": [],
   "source": [
    "# D:\\DS\\Study\\File_Handling path i'm going use\n",
    "# going to create a file\n",
    "import os\n",
    "file = open('D:/DS/Study/File_Handling/creating_new_file','xt') # by giving t i''m creating a new teext file\n",
    "file.close()"
   ]
  },
  {
   "cell_type": "code",
   "execution_count": 13,
   "id": "188f66a5",
   "metadata": {},
   "outputs": [
    {
     "name": "stdout",
     "output_type": "stream",
     "text": [
      "\n"
     ]
    }
   ],
   "source": [
    "# we are going to read that file\n",
    "file = open('D:/DS/Study/File_Handling/creating_new_file','rt') # if this file not present then it will create it\n",
    "# print(file.read())\n",
    "print(file.read(5)) # it's going  to print first 5 valid characters in that file\n",
    "file.close()"
   ]
  },
  {
   "cell_type": "code",
   "execution_count": 12,
   "id": "39785444",
   "metadata": {},
   "outputs": [],
   "source": [
    "# we are going to write in that file\n",
    "# already hello world irukku ipo write option kuduthu onnumae pass panla so file will be blank\n",
    "file = open('D:/DS/Study/File_Handling/creating_new_file','wt') # if this file not present then it will create it\n",
    "file.close()"
   ]
  },
  {
   "cell_type": "code",
   "execution_count": 14,
   "id": "d5abde18",
   "metadata": {},
   "outputs": [
    {
     "name": "stdout",
     "output_type": "stream",
     "text": [
      "\n"
     ]
    }
   ],
   "source": [
    "file = open('D:/DS/Study/File_Handling/creating_new_file','rt') # if this file not present then it will create it\n",
    "# print(file.read())\n",
    "print(file.read(5)) # it's going  to print first 5 valid characters in that file\n",
    "file.close()"
   ]
  },
  {
   "cell_type": "code",
   "execution_count": 25,
   "id": "f0c0cce6",
   "metadata": {},
   "outputs": [],
   "source": [
    "file = open('D:/DS/Study/File_Handling/creating_new_file','wt') # if this file not present then it will create it\n",
    "file.write(\"Hi I'm Milan victor V \\nLinssie\\nI Love Linssie\")\n",
    "file.close()"
   ]
  },
  {
   "cell_type": "code",
   "execution_count": 34,
   "id": "26a76dbd",
   "metadata": {},
   "outputs": [
    {
     "name": "stdout",
     "output_type": "stream",
     "text": [
      "Hi I'm Milan victor V \n",
      "Linssie\n",
      "I Love Linssie\n"
     ]
    }
   ],
   "source": [
    "file = open('D:/DS/Study/File_Handling/creating_new_file','rt') # if this file not present then it will create it\n",
    "print(file.read())\n",
    "file.close()"
   ]
  },
  {
   "cell_type": "code",
   "execution_count": 56,
   "id": "28dedde1",
   "metadata": {},
   "outputs": [
    {
     "name": "stdout",
     "output_type": "stream",
     "text": [
      "Linssie\n",
      "\n",
      "\n"
     ]
    }
   ],
   "source": [
    "#readline() it will give one by one lines as output\n",
    "# file = open('D:/DS/Study/File_Handling/creating_new_file','rt') # if this file not present then it will create it\n",
    "# print(file.readline())\n",
    "# print(file.readline())\n",
    "# print(file.readline())\n",
    "# file.close()\n",
    "#other method\n",
    "file = open('D:/DS/Study/File_Handling/creating_new_file','rt') # if this file not present then it will create it\n",
    "for line in file:\n",
    "    print(file.readline())\n",
    "file.close()"
   ]
  },
  {
   "cell_type": "code",
   "execution_count": 57,
   "id": "1b561823",
   "metadata": {},
   "outputs": [
    {
     "name": "stdout",
     "output_type": "stream",
     "text": [
      "[\"Hi I'm Milan victor V \\n\", 'Linssie\\n', 'I Love Linssie']\n"
     ]
    }
   ],
   "source": [
    "# readlines() same as read give all the lines\n",
    "file = open('D:/DS/Study/File_Handling/creating_new_file','rt') # if this file not present then it will create it\n",
    "print(file.readlines()) # new line ellam \\n ah maaridum\n",
    "file.close()"
   ]
  },
  {
   "cell_type": "code",
   "execution_count": 60,
   "id": "d099f75e",
   "metadata": {},
   "outputs": [],
   "source": [
    "# append\n",
    "file = open('D:/DS/Study/File_Handling/creating_new_file','at') # if this file not present then it will create it\n",
    "file.write('\\nNithish')\n",
    "file.close()"
   ]
  },
  {
   "cell_type": "code",
   "execution_count": 62,
   "id": "2f38fb07",
   "metadata": {},
   "outputs": [
    {
     "name": "stdout",
     "output_type": "stream",
     "text": [
      "[\"Hi I'm Milan victor V \\n\", 'Linssie\\n', 'I Love Linssie\\n', 'Nithish']\n"
     ]
    }
   ],
   "source": [
    "file = open('D:/DS/Study/File_Handling/creating_new_file','rt') # if this file not present then it will create it\n",
    "print(file.readlines()) # new line ellam \\n ah maaridum\n",
    "file.close()"
   ]
  }
 ],
 "metadata": {
  "kernelspec": {
   "display_name": "Python 3 (ipykernel)",
   "language": "python",
   "name": "python3"
  },
  "language_info": {
   "codemirror_mode": {
    "name": "ipython",
    "version": 3
   },
   "file_extension": ".py",
   "mimetype": "text/x-python",
   "name": "python",
   "nbconvert_exporter": "python",
   "pygments_lexer": "ipython3",
   "version": "3.9.12"
  }
 },
 "nbformat": 4,
 "nbformat_minor": 5
}
