{
 "cells": [
  {
   "cell_type": "code",
   "execution_count": 4,
   "id": "75d3b401",
   "metadata": {},
   "outputs": [],
   "source": [
    "import pandas as pd\n",
    "import numpy as np\n",
    "import wikipediaapi as wp"
   ]
  },
  {
   "cell_type": "code",
   "execution_count": 40,
   "id": "5897dc61",
   "metadata": {},
   "outputs": [],
   "source": [
    "lang = wp.Wikipedia('en')"
   ]
  },
  {
   "cell_type": "code",
   "execution_count": 41,
   "id": "0b290825",
   "metadata": {},
   "outputs": [],
   "source": [
    "page_py = lang.page('Python_(programming_language)')"
   ]
  },
  {
   "cell_type": "code",
   "execution_count": 44,
   "id": "906c70bc",
   "metadata": {},
   "outputs": [
    {
     "data": {
      "text/plain": [
       "Python (programming language) (id: 23862, ns: 0)"
      ]
     },
     "execution_count": 44,
     "metadata": {},
     "output_type": "execute_result"
    }
   ],
   "source": [
    "page_py."
   ]
  },
  {
   "cell_type": "code",
   "execution_count": null,
   "id": "39345d7d",
   "metadata": {},
   "outputs": [],
   "source": []
  },
  {
   "cell_type": "code",
   "execution_count": null,
   "id": "bc335676",
   "metadata": {},
   "outputs": [],
   "source": []
  }
 ],
 "metadata": {
  "kernelspec": {
   "display_name": "Python 3 (ipykernel)",
   "language": "python",
   "name": "python3"
  },
  "language_info": {
   "codemirror_mode": {
    "name": "ipython",
    "version": 3
   },
   "file_extension": ".py",
   "mimetype": "text/x-python",
   "name": "python",
   "nbconvert_exporter": "python",
   "pygments_lexer": "ipython3",
   "version": "3.9.12"
  }
 },
 "nbformat": 4,
 "nbformat_minor": 5
}
