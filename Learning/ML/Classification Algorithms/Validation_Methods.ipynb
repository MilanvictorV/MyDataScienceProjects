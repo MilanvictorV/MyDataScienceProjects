{
 "cells": [
  {
   "cell_type": "code",
   "execution_count": 1,
   "id": "2c6dcc00",
   "metadata": {},
   "outputs": [],
   "source": [
    "import pandas as pd"
   ]
  },
  {
   "cell_type": "code",
   "execution_count": 3,
   "id": "6486332b",
   "metadata": {},
   "outputs": [
    {
     "data": {
      "text/html": [
       "<div>\n",
       "<style scoped>\n",
       "    .dataframe tbody tr th:only-of-type {\n",
       "        vertical-align: middle;\n",
       "    }\n",
       "\n",
       "    .dataframe tbody tr th {\n",
       "        vertical-align: top;\n",
       "    }\n",
       "\n",
       "    .dataframe thead th {\n",
       "        text-align: right;\n",
       "    }\n",
       "</style>\n",
       "<table border=\"1\" class=\"dataframe\">\n",
       "  <thead>\n",
       "    <tr style=\"text-align: right;\">\n",
       "      <th></th>\n",
       "      <th>age</th>\n",
       "      <th>job</th>\n",
       "      <th>marital</th>\n",
       "      <th>education_qual</th>\n",
       "      <th>call_type</th>\n",
       "      <th>day</th>\n",
       "      <th>mon</th>\n",
       "      <th>dur</th>\n",
       "      <th>num_calls</th>\n",
       "      <th>prev_outcome</th>\n",
       "      <th>y</th>\n",
       "    </tr>\n",
       "  </thead>\n",
       "  <tbody>\n",
       "    <tr>\n",
       "      <th>0</th>\n",
       "      <td>58</td>\n",
       "      <td>management</td>\n",
       "      <td>married</td>\n",
       "      <td>tertiary</td>\n",
       "      <td>unknown</td>\n",
       "      <td>5</td>\n",
       "      <td>may</td>\n",
       "      <td>261</td>\n",
       "      <td>1</td>\n",
       "      <td>unknown</td>\n",
       "      <td>no</td>\n",
       "    </tr>\n",
       "    <tr>\n",
       "      <th>1</th>\n",
       "      <td>44</td>\n",
       "      <td>technician</td>\n",
       "      <td>single</td>\n",
       "      <td>secondary</td>\n",
       "      <td>unknown</td>\n",
       "      <td>5</td>\n",
       "      <td>may</td>\n",
       "      <td>151</td>\n",
       "      <td>1</td>\n",
       "      <td>unknown</td>\n",
       "      <td>no</td>\n",
       "    </tr>\n",
       "    <tr>\n",
       "      <th>2</th>\n",
       "      <td>33</td>\n",
       "      <td>entrepreneur</td>\n",
       "      <td>married</td>\n",
       "      <td>secondary</td>\n",
       "      <td>unknown</td>\n",
       "      <td>5</td>\n",
       "      <td>may</td>\n",
       "      <td>76</td>\n",
       "      <td>1</td>\n",
       "      <td>unknown</td>\n",
       "      <td>no</td>\n",
       "    </tr>\n",
       "    <tr>\n",
       "      <th>3</th>\n",
       "      <td>47</td>\n",
       "      <td>blue-collar</td>\n",
       "      <td>married</td>\n",
       "      <td>unknown</td>\n",
       "      <td>unknown</td>\n",
       "      <td>5</td>\n",
       "      <td>may</td>\n",
       "      <td>92</td>\n",
       "      <td>1</td>\n",
       "      <td>unknown</td>\n",
       "      <td>no</td>\n",
       "    </tr>\n",
       "    <tr>\n",
       "      <th>4</th>\n",
       "      <td>33</td>\n",
       "      <td>unknown</td>\n",
       "      <td>single</td>\n",
       "      <td>unknown</td>\n",
       "      <td>unknown</td>\n",
       "      <td>5</td>\n",
       "      <td>may</td>\n",
       "      <td>198</td>\n",
       "      <td>1</td>\n",
       "      <td>unknown</td>\n",
       "      <td>no</td>\n",
       "    </tr>\n",
       "  </tbody>\n",
       "</table>\n",
       "</div>"
      ],
      "text/plain": [
       "   age           job  marital education_qual call_type  day  mon  dur  \\\n",
       "0   58    management  married       tertiary   unknown    5  may  261   \n",
       "1   44    technician   single      secondary   unknown    5  may  151   \n",
       "2   33  entrepreneur  married      secondary   unknown    5  may   76   \n",
       "3   47   blue-collar  married        unknown   unknown    5  may   92   \n",
       "4   33       unknown   single        unknown   unknown    5  may  198   \n",
       "\n",
       "   num_calls prev_outcome   y  \n",
       "0          1      unknown  no  \n",
       "1          1      unknown  no  \n",
       "2          1      unknown  no  \n",
       "3          1      unknown  no  \n",
       "4          1      unknown  no  "
      ]
     },
     "execution_count": 3,
     "metadata": {},
     "output_type": "execute_result"
    }
   ],
   "source": [
    "df = pd.read_csv(r'C:\\Users\\milan\\Desktop\\Final_Projects\\Customer_conversion\\Customer_Conversion_Prediction.csv')\n",
    "df.head()"
   ]
  },
  {
   "cell_type": "code",
   "execution_count": 4,
   "id": "fbdb6f28",
   "metadata": {},
   "outputs": [],
   "source": [
    "from sklearn.model_selection import KFold"
   ]
  },
  {
   "cell_type": "code",
   "execution_count": 5,
   "id": "ad40edd1",
   "metadata": {},
   "outputs": [],
   "source": [
    "kf = KFold(n_splits = 10)"
   ]
  },
  {
   "cell_type": "code",
   "execution_count": 6,
   "id": "b9339218",
   "metadata": {},
   "outputs": [
    {
     "name": "stdout",
     "output_type": "stream",
     "text": [
      "[ 4522  4523  4524 ... 45208 45209 45210] [   0    1    2 ... 4519 4520 4521]\n",
      "[    0     1     2 ... 45208 45209 45210] [4522 4523 4524 ... 9040 9041 9042]\n",
      "[    0     1     2 ... 45208 45209 45210] [ 9043  9044  9045 ... 13561 13562 13563]\n",
      "[    0     1     2 ... 45208 45209 45210] [13564 13565 13566 ... 18082 18083 18084]\n",
      "[    0     1     2 ... 45208 45209 45210] [18085 18086 18087 ... 22603 22604 22605]\n",
      "[    0     1     2 ... 45208 45209 45210] [22606 22607 22608 ... 27124 27125 27126]\n",
      "[    0     1     2 ... 45208 45209 45210] [27127 27128 27129 ... 31645 31646 31647]\n",
      "[    0     1     2 ... 45208 45209 45210] [31648 31649 31650 ... 36166 36167 36168]\n",
      "[    0     1     2 ... 45208 45209 45210] [36169 36170 36171 ... 40687 40688 40689]\n",
      "[    0     1     2 ... 40687 40688 40689] [40690 40691 40692 ... 45208 45209 45210]\n"
     ]
    }
   ],
   "source": [
    "for train, test in kf.split(df):\n",
    "    print(train, test)"
   ]
  },
  {
   "cell_type": "code",
   "execution_count": 7,
   "id": "0a3182c7",
   "metadata": {},
   "outputs": [],
   "source": [
    "from sklearn.model_selection import StratifiedKFold"
   ]
  },
  {
   "cell_type": "code",
   "execution_count": 8,
   "id": "4a8d8218",
   "metadata": {},
   "outputs": [],
   "source": [
    "skf = StratifiedKFold(n_splits = 10)"
   ]
  },
  {
   "cell_type": "code",
   "execution_count": 15,
   "id": "cc77ba28",
   "metadata": {},
   "outputs": [],
   "source": [
    "x = df.iloc [: , : -1]\n",
    "y = df.iloc [ : , -1]"
   ]
  },
  {
   "cell_type": "code",
   "execution_count": 17,
   "id": "82cf7c39",
   "metadata": {},
   "outputs": [
    {
     "name": "stdout",
     "output_type": "stream",
     "text": [
      "[ 4114  4115  4116 ... 45208 45209 45210] [    0     1     2 ... 13686 13690 13701]\n",
      "[    0     1     2 ... 45208 45209 45210] [ 4114  4115  4116 ... 21876 21884 21909]\n",
      "[    0     1     2 ... 45208 45209 45210] [ 8255  8256  8257 ... 30917 30959 30992]\n",
      "[    0     1     2 ... 45208 45209 45210] [12437 12438 12439 ... 33809 33815 33818]\n",
      "[    0     1     2 ... 45208 45209 45210] [16701 16702 16703 ... 38628 38637 38653]\n",
      "[    0     1     2 ... 45208 45209 45210] [20972 20973 20974 ... 40710 40718 40719]\n",
      "[    0     1     2 ... 45208 45209 45210] [25196 25197 25198 ... 42127 42128 42129]\n",
      "[    0     1     2 ... 45208 45209 45210] [29420 29421 29422 ... 43174 43175 43176]\n",
      "[    0     1     2 ... 45208 45209 45210] [34226 34227 34228 ... 44144 44146 44148]\n",
      "[    0     1     2 ... 44144 44146 44148] [38571 38572 38573 ... 45208 45209 45210]\n"
     ]
    }
   ],
   "source": [
    "for train, test in skf.split(x, y):\n",
    "    print(train, test)"
   ]
  },
  {
   "cell_type": "markdown",
   "id": "25e15f5f",
   "metadata": {},
   "source": [
    "# Cross validation"
   ]
  },
  {
   "cell_type": "code",
   "execution_count": 19,
   "id": "a5c3d5e1",
   "metadata": {},
   "outputs": [],
   "source": [
    "# we can directly obtain out model scores by cross_validation\n",
    "from sklearn.model_selection import cross_val_score\n",
    "from sklearn.linear_model import LogisticRegression"
   ]
  },
  {
   "cell_type": "code",
   "execution_count": 21,
   "id": "db05e3e3",
   "metadata": {},
   "outputs": [],
   "source": [
    "# After converting our model into 1s and 0s we can apply this\n",
    "#cross_val_score(LogisticRegression(), x, y)"
   ]
  },
  {
   "cell_type": "code",
   "execution_count": null,
   "id": "1e8fc27d",
   "metadata": {},
   "outputs": [],
   "source": []
  },
  {
   "cell_type": "code",
   "execution_count": null,
   "id": "ca39b453",
   "metadata": {},
   "outputs": [],
   "source": []
  }
 ],
 "metadata": {
  "kernelspec": {
   "display_name": "Python 3 (ipykernel)",
   "language": "python",
   "name": "python3"
  },
  "language_info": {
   "codemirror_mode": {
    "name": "ipython",
    "version": 3
   },
   "file_extension": ".py",
   "mimetype": "text/x-python",
   "name": "python",
   "nbconvert_exporter": "python",
   "pygments_lexer": "ipython3",
   "version": "3.9.12"
  }
 },
 "nbformat": 4,
 "nbformat_minor": 5
}
