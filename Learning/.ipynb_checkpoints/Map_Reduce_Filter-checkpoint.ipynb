{
 "cells": [
  {
   "cell_type": "markdown",
   "id": "b97c48c5",
   "metadata": {},
   "source": [
    "# Map"
   ]
  },
  {
   "cell_type": "markdown",
   "id": "feef67a3",
   "metadata": {},
   "source": [
    "### Map used to apply a given default or user defined function to given iteratable (given input) and gives the output list"
   ]
  },
  {
   "cell_type": "code",
   "execution_count": 3,
   "id": "0816d328",
   "metadata": {},
   "outputs": [
    {
     "data": {
      "text/plain": [
       "[4, 5, 6, 7, 8]"
      ]
     },
     "execution_count": 3,
     "metadata": {},
     "output_type": "execute_result"
    }
   ],
   "source": [
    "# syntax map(function,iterables)\n",
    "out = list(map(lambda x:x+3,[1,2,3,4,5])) # by using a lambda we are creating an function to add 3 for input which given\n",
    "out"
   ]
  },
  {
   "cell_type": "code",
   "execution_count": 9,
   "id": "cbb7d7d9",
   "metadata": {},
   "outputs": [
    {
     "data": {
      "text/plain": [
       "{4, 5, 6, 7, 8}"
      ]
     },
     "execution_count": 9,
     "metadata": {},
     "output_type": "execute_result"
    }
   ],
   "source": [
    "out = set(map(lambda x:x+3,(1,1,2,3,4,5)))\n",
    "out"
   ]
  },
  {
   "cell_type": "code",
   "execution_count": 15,
   "id": "bf2de887",
   "metadata": {},
   "outputs": [
    {
     "data": {
      "text/plain": [
       "[2, 4, 6, 8]"
      ]
     },
     "execution_count": 15,
     "metadata": {},
     "output_type": "execute_result"
    }
   ],
   "source": [
    "out = list(map(lambda x,y:x+y,[1,2,3,4],[1,2,3,4]))\n",
    "out"
   ]
  },
  {
   "cell_type": "code",
   "execution_count": 22,
   "id": "9f599a6d",
   "metadata": {},
   "outputs": [
    {
     "data": {
      "text/plain": [
       "[4, 5, 6]"
      ]
     },
     "execution_count": 22,
     "metadata": {},
     "output_type": "execute_result"
    }
   ],
   "source": [
    "a = {'a' : 1, 'b' : 2, 'c' : 3}\n",
    "a.values()\n",
    "out = list(map(lambda x: x+3,a.values()))\n",
    "out"
   ]
  },
  {
   "cell_type": "markdown",
   "id": "d4a7685a",
   "metadata": {},
   "source": [
    "# Filter"
   ]
  },
  {
   "cell_type": "markdown",
   "id": "b4f09ecf",
   "metadata": {},
   "source": [
    "### It's used to check an condition in given list and give the matching values"
   ]
  },
  {
   "cell_type": "code",
   "execution_count": 26,
   "id": "4dc87971",
   "metadata": {},
   "outputs": [
    {
     "data": {
      "text/plain": [
       "[4, 5, 6, 7]"
      ]
     },
     "execution_count": 26,
     "metadata": {},
     "output_type": "execute_result"
    }
   ],
   "source": [
    "# we can do same operations as map also but it's used to give condition and filter the result set\n",
    "out = list(filter(lambda x:x+3,[2,4,5,6,7,1]))\n",
    "out\n",
    "out = list(filter(lambda x:(x>2),[2,4,5,6,7,1]))\n",
    "out"
   ]
  },
  {
   "cell_type": "code",
   "execution_count": 30,
   "id": "c8eb4247",
   "metadata": {},
   "outputs": [
    {
     "data": {
      "text/plain": [
       "[35, 115, 60, 55]"
      ]
     },
     "execution_count": 30,
     "metadata": {},
     "output_type": "execute_result"
    }
   ],
   "source": [
    "out = list(filter(lambda x:(x>30),(map(lambda x:(x*5),[1,3,4,5,6,7,2,23,12,11]))))\n",
    "out"
   ]
  },
  {
   "cell_type": "markdown",
   "id": "251a29b3",
   "metadata": {},
   "source": [
    "# Reduce"
   ]
  },
  {
   "cell_type": "markdown",
   "id": "ef7422c9",
   "metadata": {},
   "source": [
    "### Reduce function takes n number of input as list, tuples, sets and dictionaries but will only one output"
   ]
  },
  {
   "cell_type": "code",
   "execution_count": 39,
   "id": "658c8f39",
   "metadata": {},
   "outputs": [
    {
     "data": {
      "text/plain": [
       "10"
      ]
     },
     "execution_count": 39,
     "metadata": {},
     "output_type": "execute_result"
    }
   ],
   "source": [
    "# we have to import reduce to use it from functools\n",
    "# we cant do some operations as map and reduce we have to give the function as giving only one output\n",
    "from functools import reduce\n",
    "out = reduce(lambda x,y:(x+y),[1,2,3,4])\n",
    "out"
   ]
  }
 ],
 "metadata": {
  "kernelspec": {
   "display_name": "Python 3 (ipykernel)",
   "language": "python",
   "name": "python3"
  },
  "language_info": {
   "codemirror_mode": {
    "name": "ipython",
    "version": 3
   },
   "file_extension": ".py",
   "mimetype": "text/x-python",
   "name": "python",
   "nbconvert_exporter": "python",
   "pygments_lexer": "ipython3",
   "version": "3.9.12"
  }
 },
 "nbformat": 4,
 "nbformat_minor": 5
}
