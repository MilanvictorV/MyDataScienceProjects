{
 "cells": [
  {
   "cell_type": "markdown",
   "id": "28cc8221",
   "metadata": {},
   "source": [
    "# Tuples are immutuable that means we can't modify anyting"
   ]
  },
  {
   "cell_type": "markdown",
   "id": "44f225b7",
   "metadata": {},
   "source": [
    "## Only difference b/w list and tuples is we can't add anything or remove anything in tuples but can do it in list\n",
    "that's the only difference b/w them other than that we can do all other operations\n",
    "we can  represent our tuple in ()"
   ]
  },
  {
   "cell_type": "markdown",
   "id": "794bd0d4",
   "metadata": {},
   "source": [
    "# Set"
   ]
  },
  {
   "cell_type": "markdown",
   "id": "4562fda2",
   "metadata": {},
   "source": [
    "## set is unorderded and no duplicate records allowed"
   ]
  },
  {
   "cell_type": "code",
   "execution_count": 13,
   "id": "00853d14",
   "metadata": {},
   "outputs": [
    {
     "data": {
      "text/plain": [
       "{'A', 'I', 'L', 'M'}"
      ]
     },
     "execution_count": 13,
     "metadata": {},
     "output_type": "execute_result"
    }
   ],
   "source": [
    "#set is defined with flower brackets {}\n",
    "# the elements were orderded randomly each time when we call it but  no duplicate record can be found\n",
    "s1 = {'M','I','L','A'}\n",
    "s1"
   ]
  },
  {
   "cell_type": "code",
   "execution_count": 38,
   "id": "67451f35",
   "metadata": {},
   "outputs": [
    {
     "name": "stdout",
     "output_type": "stream",
     "text": [
      "{'A', 'I', 'M', 'L'}\n"
     ]
    }
   ],
   "source": [
    "print(s1)"
   ]
  },
  {
   "cell_type": "code",
   "execution_count": 42,
   "id": "496b09b2",
   "metadata": {},
   "outputs": [
    {
     "data": {
      "text/plain": [
       "{'A', 'I', 'L', 'M'}"
      ]
     },
     "execution_count": 42,
     "metadata": {},
     "output_type": "execute_result"
    }
   ],
   "source": [
    "# even if add an duplicate record it will automatically remove that duplicate\n",
    "s1.add('L')\n",
    "s1"
   ]
  },
  {
   "cell_type": "code",
   "execution_count": 47,
   "id": "c4d27cd1",
   "metadata": {},
   "outputs": [
    {
     "data": {
      "text/plain": [
       "{2, 4, 6}"
      ]
     },
     "execution_count": 47,
     "metadata": {},
     "output_type": "execute_result"
    }
   ],
   "source": [
    "#sets is more efficient for finding members\n",
    "s2 = {1,2,3,4,5,6}\n",
    "s3 = {3,5,7,8,9,1}\n",
    "s2.intersection(s3) # give values present in both sets\n",
    "s2.difference(s3) # elements which are not available in s3"
   ]
  },
  {
   "cell_type": "code",
   "execution_count": 50,
   "id": "79345369",
   "metadata": {},
   "outputs": [
    {
     "data": {
      "text/plain": [
       "{1, 2, 3, 4, 5, 6, 7, 8, 9}"
      ]
     },
     "execution_count": 50,
     "metadata": {},
     "output_type": "execute_result"
    }
   ],
   "source": [
    "s2.union(s3)"
   ]
  }
 ],
 "metadata": {
  "kernelspec": {
   "display_name": "Python 3 (ipykernel)",
   "language": "python",
   "name": "python3"
  },
  "language_info": {
   "codemirror_mode": {
    "name": "ipython",
    "version": 3
   },
   "file_extension": ".py",
   "mimetype": "text/x-python",
   "name": "python",
   "nbconvert_exporter": "python",
   "pygments_lexer": "ipython3",
   "version": "3.9.12"
  }
 },
 "nbformat": 4,
 "nbformat_minor": 5
}
