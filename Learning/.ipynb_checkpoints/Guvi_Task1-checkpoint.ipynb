{
 "cells": [
  {
   "cell_type": "markdown",
   "id": "ea5fded5",
   "metadata": {},
   "source": [
    "# Creating an user registration and login"
   ]
  },
  {
   "cell_type": "code",
   "execution_count": 4,
   "id": "96b8a8c3",
   "metadata": {},
   "outputs": [],
   "source": [
    "def invalid_username(email):\n",
    "    email=input(\"please enter the vaild email:\")\n",
    "    return username(email)\n",
    "\n",
    "def username(email):\n",
    "    original_form=r'\\b[A-Za-z0-9./%+-_]+@[a-zA-Z]+.[a-zA-Z]{2,}\\b'\n",
    "    if (re.fullmatch(original_form,email)):\n",
    "        return email\n",
    "    else:\n",
    "        print(\"Invalid username the format should be any character before @ domain EX:xyz234@org.in\")\n",
    "        return invalid_username(email)"
   ]
  },
  {
   "cell_type": "code",
   "execution_count": null,
   "id": "23dc021d",
   "metadata": {},
   "outputs": [],
   "source": [
    "def invalid_password(password):\n",
    "    password=input(\"please enter the valid password :\")\n",
    "    return password_type(password)\n",
    "\n",
    "def password_type(password):\n",
    "    l=0\n",
    "    u=0\n",
    "    num=0\n",
    "    spl=0\n",
    "    spl_char=\"!@#$%^()*/\\][{}.,\"\n",
    "    if len(password)>=8:\n",
    "        for i in password:\n",
    "            if (i.islower()):\n",
    "                l+=1\n",
    "            if (i.isupper()):\n",
    "                u+=1\n",
    "            if (i.isdigit()):\n",
    "                num+=1\n",
    "            if(i in spl_char):\n",
    "                spl+=1\n",
    "    if((l>=1)and(u>=1)and(num>=1)and(spl>=1) and l+u+num+spl==len(password)):\n",
    "        return password\n",
    "    elif(len(password)<8):\n",
    "        print('Please enter minimum 8 characters')\n",
    "    else:\n",
    "        return invalid_password(password)"
   ]
  },
  {
   "cell_type": "code",
   "execution_count": null,
   "id": "79fd2daf",
   "metadata": {},
   "outputs": [],
   "source": [
    "#function for registartion\n",
    "def register(user_input):\n",
    "    email=input('Email-id:')\n",
    "    user_name=username(email)\n",
    "    password=input(\"enter password: (Note: Your password must have minimum 8 characters)\")\n",
    "    strong_password=password_type(password)\n",
    "    file=open(\"USER_PASSWORD.txt\",\"a\")\n",
    "    file.write(user_name)\n",
    "    file.write(\" \")\n",
    "    file.write(strong_password)\n",
    "    file.write(\"\\n\")\n",
    "    file.close()\n",
    "    print(\"you have successfully registered\")\n",
    "\n",
    "def retrive_data(email):\n",
    "    file=open(\"USER_PASSWORD.txt\",\"r\")\n",
    "    global a\n",
    "    l=file.readlines()\n",
    "    for i in l:  \n",
    "        l1=i.split()\n",
    "        if email in l1:\n",
    "            a=i.split(\" \")\n",
    "            return a\n"
   ]
  },
  {
   "cell_type": "code",
   "execution_count": null,
   "id": "fd7d9099",
   "metadata": {},
   "outputs": [],
   "source": [
    "#function for login\n",
    "def login(user_input):\n",
    "    email=input('l_Email-id:')\n",
    "    username(email)\n",
    "    password=input(\"enter login password:\")\n",
    "    password_type(password)\n",
    "    retrive_data(email)\n",
    "\n",
    "#forget password\n",
    "def forget_password(user_input):\n",
    "    email=input('Email-id:')\n",
    "    F_email=username(email)\n",
    "    retrive_data(email)\n",
    "    return F_email"
   ]
  },
  {
   "cell_type": "code",
   "execution_count": 7,
   "id": "45c3b3a4",
   "metadata": {},
   "outputs": [
    {
     "name": "stdout",
     "output_type": "stream",
     "text": [
      "1:Register 2:Login 3:forget password2\n",
      "l_Email-id:abc@abc.com\n",
      "enter login password:ABcd123!@\n",
      "you are sccessfully login\n"
     ]
    }
   ],
   "source": [
    "#main code\n",
    "import re\n",
    "user_input=input('1:Register 2:Login 3:forget password')\n",
    "if user_input==\"1\":\n",
    "    register(user_input)\n",
    "elif user_input==\"2\":\n",
    "    email=input('l_Email-id:')\n",
    "    username(email)\n",
    "    password=input(\"enter login password:\")\n",
    "    password_type(password)\n",
    "    retrive_data(email)\n",
    "    N_ser=a[0]\n",
    "    N_pas=a[1].strip(\"\\n\")\n",
    "    if email==N_ser and password==N_pas:\n",
    "        print(\"you have sccessfully logged in\")\n",
    "    elif email != N_ser:\n",
    "        print('Please enter valid UserName')\n",
    "    elif password != N_pas:\n",
    "        print('Please enter valid Password')\n",
    "elif(user_input==\"3\"):\n",
    "    forget_password(user_input)\n",
    "    F_ser=a[0]\n",
    "    F_pas=a[1].strip(\"\\n\")\n",
    "    print(\"The password for the username:\",F_pas)\n",
    "    n=input(\"you can also provide new password by click 1 or by click 2 you can proceed to login\")\n",
    "    if n==\"1\":\n",
    "        password=input(\"enter new password:\")\n",
    "        update_password=password_type(password)\n",
    "        file=open(\"USER_PASSWORD.txt\",\"r\")\n",
    "        filedata=file.read()\n",
    "        filedata=filedata.replace(F_pas,update_password)\n",
    "        file=open(\"USER_PASSWORD.txt\",\"w\")\n",
    "        file.write(filedata)\n",
    "        file.close()\n",
    "        print(\"successfully updated\\n\")\n",
    "        print(\"You can verify it by login with your username and new password\")\n",
    "        email=input('l_Email-id:')\n",
    "        username(email)\n",
    "        password=input(\"enter login password:\")\n",
    "        password_type(password)\n",
    "        retrive_data(email)\n",
    "        N_ser=a[0]\n",
    "        N_pas=a[1].strip(\"\\n\")\n",
    "        if email==N_ser and password==N_pas:\n",
    "             print(\"you have sccessfully logged in\")\n",
    "    else:\n",
    "        email=input('l_Email-id:')\n",
    "        username(email)\n",
    "        password=input(\"enter login password:\")\n",
    "        password_type(password)\n",
    "        tmp = retrive_data(email)\n",
    "        N_ser= tmp.a[0]\n",
    "        N_pas= tmp.a[1].strip(\"\\n\")\n",
    "        if email==N_ser and password==N_pas:\n",
    "            print(\"you are sccessfully login\")\n",
    "        else:\n",
    "            print(\"Data is not found please register\")\n",
    "else:\n",
    "    print('oops you pressed wrong key')"
   ]
  },
  {
   "cell_type": "code",
   "execution_count": null,
   "id": "3cc1ce6b",
   "metadata": {},
   "outputs": [],
   "source": []
  },
  {
   "cell_type": "code",
   "execution_count": null,
   "id": "c403c4e1",
   "metadata": {},
   "outputs": [],
   "source": []
  },
  {
   "cell_type": "code",
   "execution_count": null,
   "id": "2cd4dd30",
   "metadata": {},
   "outputs": [],
   "source": []
  },
  {
   "cell_type": "code",
   "execution_count": null,
   "id": "c91e92c8",
   "metadata": {},
   "outputs": [],
   "source": []
  },
  {
   "cell_type": "code",
   "execution_count": null,
   "id": "dddad7ee",
   "metadata": {},
   "outputs": [],
   "source": []
  }
 ],
 "metadata": {
  "kernelspec": {
   "display_name": "Python 3 (ipykernel)",
   "language": "python",
   "name": "python3"
  },
  "language_info": {
   "codemirror_mode": {
    "name": "ipython",
    "version": 3
   },
   "file_extension": ".py",
   "mimetype": "text/x-python",
   "name": "python",
   "nbconvert_exporter": "python",
   "pygments_lexer": "ipython3",
   "version": "3.9.12"
  }
 },
 "nbformat": 4,
 "nbformat_minor": 5
}
