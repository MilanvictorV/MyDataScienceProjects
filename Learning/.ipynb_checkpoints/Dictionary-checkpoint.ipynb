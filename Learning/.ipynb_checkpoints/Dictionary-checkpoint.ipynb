{
 "cells": [
  {
   "cell_type": "markdown",
   "id": "9ea3ff0d",
   "metadata": {},
   "source": [
    "# It's a key value pairs and keys must be unique"
   ]
  },
  {
   "cell_type": "code",
   "execution_count": 10,
   "id": "c8f2174d",
   "metadata": {},
   "outputs": [
    {
     "name": "stdout",
     "output_type": "stream",
     "text": [
      "Milan\n",
      "25\n",
      "DB\n"
     ]
    }
   ],
   "source": [
    "d1 = {'name':'Milan','age':'25','job':'DB'}\n",
    "print(d1['name'])\n",
    "print(d1['age'])\n",
    "print(d1['job'])"
   ]
  },
  {
   "cell_type": "code",
   "execution_count": 11,
   "id": "599cbd88",
   "metadata": {},
   "outputs": [
    {
     "data": {
      "text/plain": [
       "{'name': 'Milan', 'age': '25', 'job': 'DB'}"
      ]
     },
     "execution_count": 11,
     "metadata": {},
     "output_type": "execute_result"
    }
   ],
   "source": [
    "d1"
   ]
  },
  {
   "cell_type": "code",
   "execution_count": 19,
   "id": "d1a761dc",
   "metadata": {},
   "outputs": [
    {
     "name": "stdout",
     "output_type": "stream",
     "text": [
      "Milan\n",
      "Not Found da mairu\n"
     ]
    }
   ],
   "source": [
    "#  To access a key which is not present use get method to aviod error\n",
    "print(d1.get('name'))\n",
    "print(d1.get('address','Not Found da mairu')) # second is passsing as default value for not present keys"
   ]
  },
  {
   "cell_type": "code",
   "execution_count": 25,
   "id": "d08599d2",
   "metadata": {},
   "outputs": [],
   "source": [
    "d1['love'] = 'Lins' # if this key already present it will update the value if not present it willadd this as new entry\n",
    "d1['age'] = 30"
   ]
  },
  {
   "cell_type": "code",
   "execution_count": 26,
   "id": "406fb511",
   "metadata": {},
   "outputs": [
    {
     "name": "stdout",
     "output_type": "stream",
     "text": [
      "Milan\n",
      "30\n",
      "DB\n",
      "Lins\n"
     ]
    }
   ],
   "source": [
    "print(d1['name'])\n",
    "print(d1['age'])\n",
    "print(d1['job'])\n",
    "print(d1['love'])"
   ]
  },
  {
   "cell_type": "code",
   "execution_count": null,
   "id": "2e96c824",
   "metadata": {},
   "outputs": [],
   "source": []
  },
  {
   "cell_type": "code",
   "execution_count": null,
   "id": "d039492d",
   "metadata": {},
   "outputs": [],
   "source": []
  },
  {
   "cell_type": "code",
   "execution_count": null,
   "id": "0e9cba14",
   "metadata": {},
   "outputs": [],
   "source": []
  },
  {
   "cell_type": "code",
   "execution_count": null,
   "id": "35829163",
   "metadata": {},
   "outputs": [],
   "source": []
  },
  {
   "cell_type": "code",
   "execution_count": null,
   "id": "7328005e",
   "metadata": {},
   "outputs": [],
   "source": []
  },
  {
   "cell_type": "code",
   "execution_count": null,
   "id": "5303136f",
   "metadata": {},
   "outputs": [],
   "source": []
  }
 ],
 "metadata": {
  "kernelspec": {
   "display_name": "Python 3 (ipykernel)",
   "language": "python",
   "name": "python3"
  },
  "language_info": {
   "codemirror_mode": {
    "name": "ipython",
    "version": 3
   },
   "file_extension": ".py",
   "mimetype": "text/x-python",
   "name": "python",
   "nbconvert_exporter": "python",
   "pygments_lexer": "ipython3",
   "version": "3.9.12"
  }
 },
 "nbformat": 4,
 "nbformat_minor": 5
}
