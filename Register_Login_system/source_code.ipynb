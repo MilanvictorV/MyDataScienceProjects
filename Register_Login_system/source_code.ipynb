def invalid_username(email):
    email=input("please enter the vaild email:")
    return username(email)

def username(email):
    original_form=r'\b[A-Za-z0-9./%+-_]+@[a-zA-Z]+.[a-zA-Z]{2,}\b'
    if (re.fullmatch(original_form,email)):
        return email
    else:
        print("Invalid username the format should be any character before @ domain EX:xyz234@org.in")
        return invalid_username(email)

def invalid_password(password):
    password=input("please enter the valid password :")
    return password_type(password)

def password_type(password):
    l=0
    u=0
    num=0
    spl=0
    spl_char="!@#$%^()*/\][{}.,"
    if len(password)>=8:
        for i in password:
            if (i.islower()):
                l+=1
            if (i.isupper()):
                u+=1
            if (i.isdigit()):
                num+=1
            if(i in spl_char):
                spl+=1
    if((l>=1)and(u>=1)and(num>=1)and(spl>=1) and l+u+num+spl==len(password)):
        return password
    elif(len(password)<8):
        print('Please enter minimum 8 characters')
    else:
        return invalid_password(password)

#function for registartion
def register(user_input):
    email=input('Email-id:')
    user_name=username(email)
    password=input("enter password: (Note: Your password must have minimum 8 characters)")
    strong_password=password_type(password)
    file=open("USER_PASSWORD.txt","a")
    file.write(user_name)
    file.write(" ")
    file.write(strong_password)
    file.write("\n")
    file.close()
    print("you have successfully registered")

def retrive_data(email):
    file=open("USER_PASSWORD.txt","r")
    global a
    l=file.readlines()
    for i in l:  
        l1=i.split()
        if email in l1:
            a=i.split(" ")
            return a

#function for login
def login(user_input):
    email=input('l_Email-id:')
    username(email)
    password=input("enter login password:")
    password_type(password)
    retrive_data(email)

#forget password
def forget_password(user_input):
    email=input('Email-id:')
    F_email=username(email)
    retrive_data(email)
    return F_email

#main code
import re
user_input=input('1:Register 2:Login 3:forget password')
if user_input=="1":
    register(user_input)
elif user_input=="2":
    email=input('l_Email-id:')
    username(email)
    password=input("enter login password:")
    password_type(password)
    retrive_data(email)
    N_ser=a[0]
    N_pas=a[1].strip("\n")
    if email==N_ser and password==N_pas:
        print("you have sccessfully logged in")
    elif email != N_ser:
        print('Please enter valid UserName')
    elif password != N_pas:
        print('Please enter valid Password')
elif(user_input=="3"):
    forget_password(user_input)
    F_ser=a[0]
    F_pas=a[1].strip("\n")
    print("The password for the username:",F_pas)
    n=input("you can also provide new password by click 1 or by click 2 you can proceed to login")
    if n=="1":
        password=input("enter new password:")
        update_password=password_type(password)
        file=open("USER_PASSWORD.txt","r")
        filedata=file.read()
        filedata=filedata.replace(F_pas,update_password)
        file=open("USER_PASSWORD.txt","w")
        file.write(filedata)
        file.close()
        print("successfully updated\n")
        print("You can verify it by login with your username and new password")
        email=input('l_Email-id:')
        username(email)
        password=input("enter login password:")
        password_type(password)
        retrive_data(email)
        N_ser=a[0]
        N_pas=a[1].strip("\n")
        if email==N_ser and password==N_pas:
             print("you have sccessfully logged in")
    else:
        email=input('l_Email-id:')
        username(email)
        password=input("enter login password:")
        password_type(password)
        tmp = retrive_data(email)
        N_ser= tmp.a[0]
        N_pas= tmp.a[1].strip("\n")
        if email==N_ser and password==N_pas:
            print("you are sccessfully login")
        else:
            print("Data is not found please register")
else:
    print('oops you pressed wrong key')